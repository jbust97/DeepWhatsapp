{
  "cells": [
    {
      "cell_type": "markdown",
      "metadata": {
        "id": "view-in-github",
        "colab_type": "text"
      },
      "source": [
        "<a href=\"https://colab.research.google.com/github/jbust97/DeepWhatsapp/blob/main/Analisis_Datos_regresion_lineal.ipynb\" target=\"_parent\"><img src=\"https://colab.research.google.com/assets/colab-badge.svg\" alt=\"Open In Colab\"/></a>"
      ]
    },
    {
      "cell_type": "code",
      "execution_count": 10,
      "metadata": {
        "id": "G0LUFb-Nsb4S"
      },
      "outputs": [],
      "source": [
        "import pandas as pd\n",
        "import numpy as np\n",
        "from datetime import datetime\n",
        "from datetime import timedelta\n",
        "from sklearn.linear_model import LinearRegression\n",
        "from statsmodels.sandbox.regression.predstd import wls_prediction_std\n",
        "from functools import reduce\n",
        "import statsmodels.api as sm\n",
        "from scipy import stats\n"
      ]
    },
    {
      "cell_type": "markdown",
      "metadata": {
        "id": "LB1zJdXdbUKt"
      },
      "source": [
        "# Configuraciones"
      ]
    },
    {
      "cell_type": "code",
      "execution_count": 11,
      "metadata": {
        "id": "oMdGmCoubWTc"
      },
      "outputs": [],
      "source": [
        "## Setting ####\n",
        "# Configuraciones del dataset a usar\n",
        "# Fecha de inicio de conteo de casos acumulados\n",
        "CUM_DATE_0 = \"2023-07-29\"\n",
        "# Fecha de fin de conteo de casos acumulados\n",
        "CUM_DATE_F = \"2024-01-10\"\n",
        "# Clasificación de casos: SOSPECHOSO, PROBABLE, CONFIRMADO, TOTAL (S+P+C)\n",
        "CLASSIFICATION_0 =  \"CONFIRMADO\"\n",
        "# Nivel: National, Departamento, Eje\n",
        "LEVEL_0  =  None #\"National\"\n",
        "# Nombre de la localidad\n",
        "NAME_0  = \"ALTO PARAGUAY\"\n",
        "# Enfermedad: DENGUE, CHIKUNGUNYA\n",
        "DISEASE_0 =  \"CHIKUNGUNYA\"\n",
        "\n",
        "\n",
        "# argumentos para rollmean media movil\n",
        "ROLL_MEAN = 3 # periodo\n",
        "MEAN_ALIGN =  \"right\" # Alineación de medias calculadas\n",
        "FILL_MEAN = None # Valor de relleno (Cómo alternativa se puede implementar un metodo de interpolación)\n",
        "\n",
        "# Semanas de entrenamiento\n",
        "TRAINING_WINDOW_DAYS = 28\n",
        "FORECASTING_WINDOW_DAYS = 21\n",
        "FORECASTING_WINDOW_WEEKS = 5"
      ]
    },
    {
      "cell_type": "markdown",
      "metadata": {
        "id": "hqc27_93Pdg7"
      },
      "source": []
    },
    {
      "cell_type": "code",
      "execution_count": 12,
      "metadata": {
        "id": "t4FmgmFXPgU1"
      },
      "outputs": [],
      "source": [
        "# Read the CSV file\n",
        "data_csv = pd.read_csv(\n",
        "    \"case_data_2019_2023_upto16sep_23_weekly_v20231103.csv\",\n",
        "    header=0,\n",
        "    sep=\",\",\n",
        "    decimal=\".\",\n",
        "    encoding=\"UTF-8\"\n",
        ")"
      ]
    },
    {
      "cell_type": "markdown",
      "metadata": {
        "id": "jg4FVEL0bGu5"
      },
      "source": [
        "# Preparacion de datos"
      ]
    },
    {
      "cell_type": "code",
      "execution_count": 13,
      "metadata": {
        "id": "KXG-TXeIQTdS"
      },
      "outputs": [],
      "source": [
        "# Filter rows based on conditions\n",
        "df_0 = data_csv[(data_csv['disease'] != \"DENGUE,CHIKUNGUNYA\") & (data_csv['disease'] != \"ARBOVIROSIS\")]\n",
        "\n",
        "if DISEASE_0:\n",
        "  df_0 = df_0[df_0['disease'] == DISEASE_0]\n",
        "if LEVEL_0:\n",
        "  df_0 = df_0[df_0['level'] == LEVEL_0]\n",
        "if NAME_0:\n",
        "  df_0 = df_0[df_0['name'] == NAME_0]\n",
        "if CLASSIFICATION_0:\n",
        "  df_0 = df_0[df_0['classification'] == CLASSIFICATION_0]\n",
        "\n",
        "# Update the 'i_cases' column in the DataFrame 'df_0' where the value is 0 with a random exponential value between 1e-9 and 1.\n",
        "df_0.loc[df_0['i_cases'] == 0, 'i_cases'] = np.exp(np.random.uniform(np.log(1e-9), np.log(1)))\n",
        "\n",
        "# Group by specified columns and apply mutations\n",
        "df_0 = df_0.groupby(['name', 'level', 'disease', 'classification'],group_keys=False).apply(lambda group: (\n",
        "    group.assign(csum=(group['i_cases'].cumsum() + np.exp(np.random.uniform(np.log(1e-9), np.log(1)))),\n",
        "                 id_proy=group['name'] + '-' + group['disease'] + '-' + group['classification'])\n",
        ")).reset_index(drop=True)\n",
        "# create columns of time\n",
        "df_0['date'] = pd.to_datetime(df_0['date'])\n",
        "df_0['t'] = (df_0['date'] - df_0['date'].min() + (1 * np.timedelta64(1, 'D')))  / np.timedelta64(1, 'D')\n"
      ]
    },
    {
      "cell_type": "code",
      "source": [
        "def adj_r_squared(y_true, y_pred, n, p):\n",
        "    r_squared = stats.linregress(y_true, y_pred).rvalue ** 2\n",
        "    adj_r_squared = 1 - ((1 - r_squared) * (n - 1) / (n - p - 1))\n",
        "    return adj_r_squared"
      ],
      "metadata": {
        "id": "InrGHlQ7BzJn"
      },
      "execution_count": 14,
      "outputs": []
    },
    {
      "cell_type": "markdown",
      "source": [
        "Thera are two functions that can be used to calculated the predicted, lower and upper values. They differ in how they calculate lower and upper values."
      ],
      "metadata": {
        "id": "Sp_iTzbntGk-"
      }
    },
    {
      "cell_type": "code",
      "execution_count": 15,
      "metadata": {
        "id": "ZsX-KLTJs15G"
      },
      "outputs": [],
      "source": [
        "#In this version of the predict function, the confidence interval is calculated using the training set. This looks counterintuitive to me. We can discuss about this later.\n",
        "\n",
        "def predict(model, new_data, x, y, confidence_level=0.90):\n",
        "    # Predicting the mean response\n",
        "    predicted_values = model.predict(new_data)\n",
        "    y_pred = model.predict(x)\n",
        "    squared_errors = (y - y_pred) ** 2\n",
        "    # Calculate mean squared error\n",
        "    mse = np.mean(squared_errors)\n",
        "    sep = np.sqrt(mse / (y_pred.shape[0] - x.shape[1] - 1))\n",
        "    # TODO: Verificar que se calcule asi el intervalo de confianza\n",
        "    # Organizing the results into a DataFrame\n",
        "    return pd.DataFrame({'fit': predicted_values, 'upr': predicted_values + confidence_level*sep, 'lwr': predicted_values - confidence_level*sep})\n",
        "\n"
      ]
    },
    {
      "cell_type": "code",
      "source": [
        "#In this version of the predict function, the confidence interval is calculated using only the testing set. I think this is the right way to do this.\n",
        "def predict2(model,x,y,confidence_level=0.90):\n",
        "    y_pred = model.predict(x)\n",
        "    squared_errors = (y - y_pred) ** 2\n",
        "    # Calculate mean squared error\n",
        "    mse = np.mean(squared_errors)\n",
        "    sep = np.sqrt(mse / (y_pred.shape[0] - x.shape[1] - 1))\n",
        "    # TODO: Verificar que se calcule asi el intervalo de confianza\n",
        "\n",
        "    n = x.shape[0]\n",
        "    p = model.coef_.shape[0]-1\n",
        "    AIC = n * np.log(np.mean((y - y_pred) ** 2)) + 2 * p\n",
        "    AICc = AIC + (2 * p * (p + 1)) / (n - p - 1)\n",
        "    BIC = n * np.log(np.mean((y - y_pred) ** 2)) + p * np.log(n)\n",
        "\n",
        "\n",
        "\n",
        "    # Organizing the results into a DataFrame\n",
        "    return pd.DataFrame(\n",
        "        {\n",
        "         'observed': y,\n",
        "         'fit': y_pred,\n",
        "         'upr': y_pred + confidence_level*sep,\n",
        "         'lwr': y_pred - confidence_level*sep,\n",
        "         #+ 1 for the intercept\n",
        "         'rank': np.sum(model.coef_ != 0) + 1  ,\n",
        "         'Df.res':  n - x.shape[1] - 1,\n",
        "         'Adj_R_sq': adj_r_squared(y,y_pred,n,p+1),\n",
        "         'AIC': AIC,\n",
        "         'AICc': AICc,\n",
        "         'BIC': BIC\n",
        "         })\n"
      ],
      "metadata": {
        "id": "bj7mgolKArx7"
      },
      "execution_count": 16,
      "outputs": []
    },
    {
      "cell_type": "code",
      "source": [],
      "metadata": {
        "id": "r5SrVBOQ3L9m"
      },
      "execution_count": 16,
      "outputs": []
    },
    {
      "cell_type": "code",
      "source": [
        ""
      ],
      "metadata": {
        "id": "gXkoFXv75X6i"
      },
      "execution_count": null,
      "outputs": []
    },
    {
      "cell_type": "code",
      "execution_count": null,
      "metadata": {
        "colab": {
          "base_uri": "https://localhost:8080/"
        },
        "id": "Xdc5zgdEd_PH",
        "outputId": "1a33084a-9a15-4d24-88ff-39d27bf6d171"
      },
      "outputs": [
        {
          "output_type": "stream",
          "name": "stdout",
          "text": [
            "|    | Model                       | Method                |       log_a |          b |           c |   Fit.criteria |   id |   observed |     fit |     upr |      lwr |   rank |   Df.res |   Adj_R_sq |     AIC |    AICc |     BIC |   t |   Relative.likelihood |\n",
            "|---:|:----------------------------|:----------------------|------------:|-----------:|------------:|---------------:|-----:|-----------:|--------:|--------:|---------:|-------:|---------:|-----------:|--------:|--------:|--------:|----:|----------------------:|\n",
            "|  0 | log(TC)=log(a)+c t          | Exponential           |  -0.13605   |   0.682688 |   0         |    553.833     |    5 |    13.0008 | 2.59456 | 11.0344 | -5.84525 |      2 |        3 |   0.959396 | 27.8763 | 27.8763 | 27.8763 |  57 |              1        |\n",
            "|  1 | nan                         | nan                   | nan         | nan        | nan         |    nan         |  nan |    14.0008 | 3.19212 | 11.6319 | -5.24768 |      2 |        3 |   0.959396 | 27.8763 | 27.8763 | 27.8763 | nan |              1        |\n",
            "|  2 | nan                         | nan                   | nan         | nan        | nan         |    nan         |  nan |    20.0008 | 3.78969 | 12.2295 | -4.65012 |      2 |        3 |   0.959396 | 27.8763 | 27.8763 | 27.8763 | nan |              1        |\n",
            "|  3 | nan                         | nan                   | nan         | nan        | nan         |    nan         |  nan |    23.0008 | 4.38725 | 12.8271 | -4.05256 |      2 |        3 |   0.959396 | 27.8763 | 27.8763 | 27.8763 | nan |              1        |\n",
            "|  4 | nan                         | nan                   | nan         | nan        | nan         |    nan         |  nan |    27.0008 | 4.98481 | 13.4246 | -3.45499 |      2 |        3 |   0.959396 | 27.8763 | 27.8763 | 27.8763 | nan |              1        |\n",
            "|  5 | log(TC)=log(a)+b log(t)     | Sub-exponential       |  -0.13605   |   0.682688 |   0         |      0.321842  |    5 |    13.0008 | 2.16276 | 11.3876 | -7.06208 |      2 |        3 |   0.925895 | 28.7657 | 28.7657 | 28.7657 |  57 |              0.641013 |\n",
            "|  6 | nan                         | nan                   | nan         | nan        | nan         |    nan         |  nan |    14.0008 | 2.31038 | 11.5352 | -6.91447 |      2 |        3 |   0.925895 | 28.7657 | 28.7657 | 28.7657 | nan |              0.641013 |\n",
            "|  7 | nan                         | nan                   | nan         | nan        | nan         |    nan         |  nan |    20.0008 | 2.43168 | 11.6565 | -6.79317 |      2 |        3 |   0.925895 | 28.7657 | 28.7657 | 28.7657 | nan |              0.641013 |\n",
            "|  8 | nan                         | nan                   | nan         | nan        | nan         |    nan         |  nan |    23.0008 | 2.53464 | 11.7595 | -6.6902  |      2 |        3 |   0.925895 | 28.7657 | 28.7657 | 28.7657 | nan |              0.641013 |\n",
            "|  9 | nan                         | nan                   | nan         | nan        | nan         |    nan         |  nan |    27.0008 | 2.62409 | 11.8489 | -6.60075 |      2 |        3 |   0.925895 | 28.7657 | 28.7657 | 28.7657 | nan |              0.641013 |\n",
            "| 10 | log(TC)=log(a)+b log(t)+c t | Sub-exponential-decay |  -0.0336811 |   0.258991 |   0.0567064 |      0.0489783 |    5 |    13.0008 | 2.4829  | 13.1137 | -8.14792 |      3 |        2 |   0.93579  | 30.1569 | 31.4903 | 29.7664 |  57 |              0.164146 |\n",
            "| 11 | nan                         | nan                   | nan         | nan        | nan         |    nan         |  nan |    14.0008 | 2.93585 | 13.5667 | -7.69498 |      3 |        2 |   0.93579  | 30.1569 | 31.4903 | 29.7664 | nan |              0.164146 |\n",
            "| 12 | nan                         | nan                   | nan         | nan        | nan         |    nan         |  nan |    20.0008 | 3.37881 | 14.0096 | -7.25202 |      3 |        2 |   0.93579  | 30.1569 | 31.4903 | 29.7664 | nan |              0.164146 |\n",
            "| 13 | nan                         | nan                   | nan         | nan        | nan         |    nan         |  nan |    23.0008 | 3.81482 | 14.4456 | -6.81601 |      3 |        2 |   0.93579  | 30.1569 | 31.4903 | 29.7664 | nan |              0.164146 |\n",
            "| 14 | nan                         | nan                   | nan         | nan        | nan         |    nan         |  nan |    27.0008 | 4.2457  | 14.8765 | -6.38513 |      3 |        2 |   0.93579  | 30.1569 | 31.4903 | 29.7664 | nan |              0.164146 |\n"
          ]
        }
      ],
      "source": [
        "# Para cada nivel de datos que tenemos\n",
        "for level in df_0['id_proy'].unique():\n",
        "  # dataframe base\n",
        "  df_1 = df_0[df_0['id_proy'] == level]\n",
        "  for i in range(5, df_1.shape[0] + 1):\n",
        "    training_dataset = df_1.iloc[i-5:i]\n",
        "\n",
        "    # Linear model 1) lm.e.tc: I(log(csum)) ~ t\n",
        "    t = training_dataset['t']\n",
        "    x = t.values.reshape(-1, 1)\n",
        "    log_x = np.log(t.values).reshape(-1, 1)\n",
        "\n",
        "    y = np.log(training_dataset['csum'])\n",
        "\n",
        "    lm_e_tc = LinearRegression().fit(x, y)\n",
        "\n",
        "    # Linear model 2) lm.se.tc: I(log(csum)) ~ log(t)\n",
        "    lm_se_tc = LinearRegression().fit(log_x, y)\n",
        "\n",
        "\n",
        "    # Linear model 3) lm.seco.tc: I(log(csum)) ~ log(t) + t\n",
        "    lm_seco_tc = LinearRegression().fit(np.column_stack((log_x, x)), y)\n",
        "\n",
        "\n",
        "    results = pd.DataFrame({\n",
        "      'Model': ['log(TC)=log(a)+c t', 'log(TC)=log(a)+b log(t)', 'log(TC)=log(a)+b log(t)+c t'],\n",
        "      'Method': ['Exponential', 'Sub-exponential', 'Sub-exponential-decay'],\n",
        "      'log_a': [lm_se_tc.intercept_, lm_se_tc.intercept_, lm_seco_tc.intercept_],\n",
        "      'b': [lm_se_tc.coef_[0],\n",
        "            lm_se_tc.coef_[0],\n",
        "            lm_seco_tc.coef_[0]],\n",
        "      'c': [lm_se_tc.coef_[1] if hasattr(lm_e_tc, 'coef_') and len(lm_se_tc.coef_) > 1 else 0,\n",
        "            0,\n",
        "            lm_seco_tc.coef_[1] if hasattr(lm_seco_tc, 'coef_') and len(lm_seco_tc.coef_) > 1 else 0],\n",
        "      'Fit.criteria': [np.sum((lm_se_tc.predict(x) - y) ** 2),\n",
        "                      np.sum((lm_se_tc.predict(log_x) - y) ** 2),\n",
        "                      np.sum((lm_seco_tc.predict(np.column_stack((log_x, x))) - y) ** 2)],\n",
        "      'id': np.full(3, i)\n",
        "    })\n",
        "    ## Evaluation of models\n",
        "\n",
        "    new = (t.max(skipna=True) + np.arange(0, FORECASTING_WINDOW_WEEKS * 7, 7))\n",
        "    new_x = new.reshape(-1, 1)\n",
        "    new_log_x = np.log(new).reshape(-1, 1)\n",
        "\n",
        "    y = df_1[df_1['t'].isin(new)]['csum']\n",
        "\n",
        "\n",
        "    # Linear model 1) lm.e.tc\n",
        "    #data = predict(lm_e_tc, new_x, x, y)\n",
        "    data = predict2(lm_e_tc, new_x, y)\n",
        "    new = pd.DataFrame({'t': new})\n",
        "    new['Method']= np.full(FORECASTING_WINDOW_WEEKS, 'Exponential')\n",
        "    data['Method'] = new['Method']\n",
        "    data['t'] = new['t']\n",
        "\n",
        "    exponential = pd.merge(results, data, on='Method',how='right')\n",
        "\n",
        "    # Linear model 2) lm.se.tc\n",
        "    #data = predict(lm_se_tc, new_log_x, log_x, y)\n",
        "    data = predict2(lm_se_tc, new_log_x, y)\n",
        "    new['Method']= np.full(FORECASTING_WINDOW_WEEKS, 'Sub-exponential')\n",
        "    data['t'] = new['t']\n",
        "    data['Method'] = new['Method']\n",
        "\n",
        "\n",
        "\n",
        "    sub_exponential = pd.merge(results, data, on='Method',how='right')\n",
        "\n",
        "    # Linear model 3) lm.seco.tc\n",
        "\n",
        "    #data = predict(lm_seco_tc, np.column_stack((new_log_x, new_x)), np.column_stack((log_x, x)), y)\n",
        "    data = predict2(lm_seco_tc, np.column_stack((new_log_x, new_x)), y)\n",
        "    new['Method']= np.full(FORECASTING_WINDOW_WEEKS, 'Sub-exponential-decay')\n",
        "    data['t'] = new['t']\n",
        "    data['Method'] = new['Method']\n",
        "\n",
        "\n",
        "    sub_exponential_decay = pd.merge(results, data, on='Method',how='right')\n",
        "\n",
        "    result = pd.concat([exponential, sub_exponential, sub_exponential_decay], ignore_index=True)\n",
        "    result['Relative.likelihood'] =  np.exp((np.min(result['AICc']) - result['AICc'])/ 2)\n",
        "    print(result.to_markdown())\n",
        "    input()\n",
        "\n",
        "\n",
        "\n",
        "\n",
        "\n"
      ]
    },
    {
      "cell_type": "markdown",
      "source": [],
      "metadata": {
        "id": "I3B_fTt1YnNe"
      }
    },
    {
      "cell_type": "code",
      "execution_count": null,
      "metadata": {
        "id": "thfCxF5K0Cza"
      },
      "outputs": [],
      "source": []
    }
  ],
  "metadata": {
    "accelerator": "GPU",
    "colab": {
      "gpuType": "T4",
      "provenance": [],
      "include_colab_link": true
    },
    "kernelspec": {
      "display_name": "Python 3",
      "name": "python3"
    },
    "language_info": {
      "name": "python"
    }
  },
  "nbformat": 4,
  "nbformat_minor": 0
}